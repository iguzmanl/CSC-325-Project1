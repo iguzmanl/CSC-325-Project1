{
 "cells": [
  {
   "cell_type": "code",
   "execution_count": 1,
   "metadata": {},
   "outputs": [],
   "source": [
    "import pandas as pd\n",
    "import csv"
   ]
  },
  {
   "cell_type": "code",
   "execution_count": 18,
   "metadata": {},
   "outputs": [
    {
     "data": {
      "text/html": [
       "<div>\n",
       "<style scoped>\n",
       "    .dataframe tbody tr th:only-of-type {\n",
       "        vertical-align: middle;\n",
       "    }\n",
       "\n",
       "    .dataframe tbody tr th {\n",
       "        vertical-align: top;\n",
       "    }\n",
       "\n",
       "    .dataframe thead th {\n",
       "        text-align: right;\n",
       "    }\n",
       "</style>\n",
       "<table border=\"1\" class=\"dataframe\">\n",
       "  <thead>\n",
       "    <tr style=\"text-align: right;\">\n",
       "      <th></th>\n",
       "      <th>User_Agent</th>\n",
       "      <th>AcceptLanguage</th>\n",
       "      <th>AcceptEncoding</th>\n",
       "      <th>Page</th>\n",
       "    </tr>\n",
       "  </thead>\n",
       "  <tbody>\n",
       "    <tr>\n",
       "      <th>count</th>\n",
       "      <td>2927</td>\n",
       "      <td>2927</td>\n",
       "      <td>2927</td>\n",
       "      <td>2927</td>\n",
       "    </tr>\n",
       "    <tr>\n",
       "      <th>unique</th>\n",
       "      <td>64</td>\n",
       "      <td>138</td>\n",
       "      <td>1</td>\n",
       "      <td>6</td>\n",
       "    </tr>\n",
       "    <tr>\n",
       "      <th>top</th>\n",
       "      <td>Mozilla/5.0 (X11; U; Linux i686; en-US; rv:1.8...</td>\n",
       "      <td>si</td>\n",
       "      <td>gzip</td>\n",
       "      <td>kitten3</td>\n",
       "    </tr>\n",
       "    <tr>\n",
       "      <th>freq</th>\n",
       "      <td>113</td>\n",
       "      <td>84</td>\n",
       "      <td>2927</td>\n",
       "      <td>620</td>\n",
       "    </tr>\n",
       "  </tbody>\n",
       "</table>\n",
       "</div>"
      ],
      "text/plain": [
       "                                               User_Agent AcceptLanguage  \\\n",
       "count                                                2927           2927   \n",
       "unique                                                 64            138   \n",
       "top     Mozilla/5.0 (X11; U; Linux i686; en-US; rv:1.8...             si   \n",
       "freq                                                  113             84   \n",
       "\n",
       "       AcceptEncoding     Page  \n",
       "count            2927     2927  \n",
       "unique              1        6  \n",
       "top              gzip  kitten3  \n",
       "freq             2927      620  "
      ]
     },
     "execution_count": 18,
     "metadata": {},
     "output_type": "execute_result"
    }
   ],
   "source": [
    "df = pd.read_csv(\"data_file.csv\")\n",
    "df.describe()"
   ]
  },
  {
   "cell_type": "code",
   "execution_count": 3,
   "metadata": {},
   "outputs": [],
   "source": [
    "def generalize_device(agent):\n",
    "    if \"Macintosh\" in agent:\n",
    "        return \"Macintosh\"\n",
    "    elif \"iPhone\" in agent:\n",
    "        return \"iPhone\"\n",
    "    elif \"iPod\" in agent:\n",
    "        return \"iPod\"\n",
    "    elif \"Windows Phone\" in agent:\n",
    "        return \"Windows Phone\"\n",
    "    elif \"Linux\" in agent:\n",
    "        return \"Linux\"\n",
    "    elif \"Android\" in agent:\n",
    "        return \"Android\"\n",
    "    elif \"Windows\" in agent:\n",
    "        return \"Windows\"\n",
    "    elif \"BlackBerry\" in agent:\n",
    "        return \"BlackBerry\"\n",
    "    else:\n",
    "        return \"Other\""
   ]
  },
  {
   "cell_type": "code",
   "execution_count": 4,
   "metadata": {},
   "outputs": [],
   "source": [
    "for index, row in df.iterrows():\n",
    "#     print(index)\n",
    "    gen_device = generalize_device(row.User_Agent)\n",
    "#     if gen_device == \"Other\":\n",
    "#         print(\"found other in line \")\n",
    "#         print(row.Agent)\n",
    "    row.at['User_Agent'] = gen_device"
   ]
  },
  {
   "cell_type": "code",
   "execution_count": 5,
   "metadata": {},
   "outputs": [
    {
     "data": {
      "text/html": [
       "<div>\n",
       "<style scoped>\n",
       "    .dataframe tbody tr th:only-of-type {\n",
       "        vertical-align: middle;\n",
       "    }\n",
       "\n",
       "    .dataframe tbody tr th {\n",
       "        vertical-align: top;\n",
       "    }\n",
       "\n",
       "    .dataframe thead th {\n",
       "        text-align: right;\n",
       "    }\n",
       "</style>\n",
       "<table border=\"1\" class=\"dataframe\">\n",
       "  <thead>\n",
       "    <tr style=\"text-align: right;\">\n",
       "      <th></th>\n",
       "      <th>User_Agent</th>\n",
       "      <th>AcceptLanguage</th>\n",
       "      <th>AcceptEncoding</th>\n",
       "      <th>Page</th>\n",
       "    </tr>\n",
       "  </thead>\n",
       "  <tbody>\n",
       "    <tr>\n",
       "      <th>count</th>\n",
       "      <td>2927</td>\n",
       "      <td>2927</td>\n",
       "      <td>2927</td>\n",
       "      <td>2927</td>\n",
       "    </tr>\n",
       "    <tr>\n",
       "      <th>unique</th>\n",
       "      <td>8</td>\n",
       "      <td>138</td>\n",
       "      <td>1</td>\n",
       "      <td>6</td>\n",
       "    </tr>\n",
       "    <tr>\n",
       "      <th>top</th>\n",
       "      <td>Windows</td>\n",
       "      <td>si</td>\n",
       "      <td>gzip</td>\n",
       "      <td>kitten3</td>\n",
       "    </tr>\n",
       "    <tr>\n",
       "      <th>freq</th>\n",
       "      <td>1008</td>\n",
       "      <td>84</td>\n",
       "      <td>2927</td>\n",
       "      <td>620</td>\n",
       "    </tr>\n",
       "  </tbody>\n",
       "</table>\n",
       "</div>"
      ],
      "text/plain": [
       "       User_Agent AcceptLanguage AcceptEncoding     Page\n",
       "count        2927           2927           2927     2927\n",
       "unique          8            138              1        6\n",
       "top       Windows             si           gzip  kitten3\n",
       "freq         1008             84           2927      620"
      ]
     },
     "execution_count": 5,
     "metadata": {},
     "output_type": "execute_result"
    }
   ],
   "source": [
    "df.describe()"
   ]
  },
  {
   "cell_type": "code",
   "execution_count": 16,
   "metadata": {},
   "outputs": [
    {
     "data": {
      "text/plain": [
       "User_Agent\n",
       "Android           161\n",
       "BlackBerry         98\n",
       "Linux             992\n",
       "Macintosh         224\n",
       "Other             137\n",
       "Windows          1008\n",
       "Windows Phone     126\n",
       "iPhone            181\n",
       "dtype: int64"
      ]
     },
     "execution_count": 16,
     "metadata": {},
     "output_type": "execute_result"
    }
   ],
   "source": [
    "df.groupby(['User_Agent']).size()"
   ]
  }
 ],
 "metadata": {
  "kernelspec": {
   "display_name": "Python 3",
   "language": "python",
   "name": "python3"
  },
  "language_info": {
   "codemirror_mode": {
    "name": "ipython",
    "version": 3
   },
   "file_extension": ".py",
   "mimetype": "text/x-python",
   "name": "python",
   "nbconvert_exporter": "python",
   "pygments_lexer": "ipython3",
   "version": "3.7.1"
  }
 },
 "nbformat": 4,
 "nbformat_minor": 2
}
